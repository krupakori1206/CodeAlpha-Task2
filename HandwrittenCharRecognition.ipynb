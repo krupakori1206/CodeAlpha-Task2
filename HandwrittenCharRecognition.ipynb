{
  "nbformat": 4,
  "nbformat_minor": 0,
  "metadata": {
    "colab": {
      "provenance": []
    },
    "kernelspec": {
      "name": "python3",
      "display_name": "Python 3"
    },
    "language_info": {
      "name": "python"
    }
  },
  "cells": [
    {
      "cell_type": "code",
      "execution_count": 1,
      "metadata": {
        "colab": {
          "base_uri": "https://localhost:8080/",
          "height": 106
        },
        "id": "-l-ZTVCYukdp",
        "outputId": "3f629f3e-ce0a-40d4-ff24-526840a0d3c6"
      },
      "outputs": [
        {
          "output_type": "error",
          "ename": "SyntaxError",
          "evalue": "invalid character '━' (U+2501) (ipython-input-1-2546322275.py, line 53)",
          "traceback": [
            "\u001b[0;36m  File \u001b[0;32m\"/tmp/ipython-input-1-2546322275.py\"\u001b[0;36m, line \u001b[0;32m53\u001b[0m\n\u001b[0;31m    11490434/11490434 ━━━━━━━━━━━━━━━━━━━━ 0s 0us/step\u001b[0m\n\u001b[0m                      ^\u001b[0m\n\u001b[0;31mSyntaxError\u001b[0m\u001b[0;31m:\u001b[0m invalid character '━' (U+2501)\n"
          ]
        }
      ],
      "source": [
        "from google.colab import files\n",
        "uploaded = files.upload()  # This will open a file picker to upload your CSV\n",
        "import numpy as np\n",
        "import matplotlib.pyplot as plt\n",
        "import tensorflow as tf\n",
        "from tensorflow.keras.models import Sequential\n",
        "from tensorflow.keras.layers import Conv2D, MaxPooling2D, Flatten, Dense, Dropout\n",
        "from tensorflow.keras.datasets import mnist\n",
        "from tensorflow.keras.utils import to_categorical\n",
        "(X_train, y_train), (X_test, y_test) = mnist.load_data()\n",
        "\n",
        "# Normalize (0-255 → 0-1)\n",
        "X_train = X_train / 255.0\n",
        "X_test = X_test / 255.0\n",
        "\n",
        "# Reshape for CNN input (samples, height, width, channels)\n",
        "X_train = X_train.reshape(-1, 28, 28, 1)\n",
        "X_test = X_test.reshape(-1, 28, 28, 1)\n",
        "\n",
        "# One-hot encode labels\n",
        "y_train = to_categorical(y_train)\n",
        "y_test = to_categorical(y_test)\n",
        "model = Sequential([\n",
        "    Conv2D(32, kernel_size=(3,3), activation='relu', input_shape=(28,28,1)),\n",
        "    MaxPooling2D(pool_size=(2,2)),\n",
        "    Dropout(0.25),\n",
        "\n",
        "    Conv2D(64, kernel_size=(3,3), activation='relu'),\n",
        "    MaxPooling2D(pool_size=(2,2)),\n",
        "    Dropout(0.25),\n",
        "\n",
        "    Flatten(),\n",
        "    Dense(128, activation='relu'),\n",
        "    Dropout(0.5),\n",
        "    Dense(10, activation='softmax')  # 10 for MNIST, use 26 or more for EMNIST\n",
        "])\n",
        "\n",
        "model.compile(optimizer='adam', loss='categorical_crossentropy', metrics=['accuracy'])\n",
        "model.fit(X_train, y_train, epochs=10, batch_size=128, validation_split=0.1)\n",
        "test_loss, test_acc = model.evaluate(X_test, y_test)\n",
        "print(f\"Test Accuracy: {test_acc * 100:.2f}%\")\n",
        "predictions = model.predict(X_test)\n",
        "\n",
        "# Show a few predictions\n",
        "for i in range(5):\n",
        "    plt.imshow(X_test[i].reshape(28,28), cmap='gray')\n",
        "    plt.title(f\"Predicted: {np.argmax(predictions[i])}\")\n",
        "    plt.show()\n",
        "\n",
        "Upload widget is only available when the cell has been executed in the current browser session. Please rerun this cell to enable.\n",
        "Saving Untitled.ipynb to Untitled.ipynb\n",
        "Downloading data from https://storage.googleapis.com/tensorflow/tf-keras-datasets/mnist.npz\n",
        "11490434/11490434 ━━━━━━━━━━━━━━━━━━━━ 0s 0us/step\n",
        "/usr/local/lib/python3.11/dist-packages/keras/src/layers/convolutional/base_conv.py:107: UserWarning: Do not pass an `input_shape`/`input_dim` argument to a layer. When using Sequential models, prefer using an `Input(shape)` object as the first layer in the model instead.\n",
        "  super().__init__(activity_regularizer=activity_regularizer, **kwargs)\n",
        "Epoch 1/10\n",
        "422/422 ━━━━━━━━━━━━━━━━━━━━ 49s 112ms/step - accuracy: 0.7431 - loss: 0.7764 - val_accuracy: 0.9752 - val_loss: 0.0816\n",
        "Epoch 2/10\n",
        "422/422 ━━━━━━━━━━━━━━━━━━━━ 82s 113ms/step - accuracy: 0.9588 - loss: 0.1392 - val_accuracy: 0.9845 - val_loss: 0.0519\n",
        "Epoch 3/10\n",
        "422/422 ━━━━━━━━━━━━━━━━━━━━ 80s 110ms/step - accuracy: 0.9707 - loss: 0.0992 - val_accuracy: 0.9885 - val_loss: 0.0404\n",
        "Epoch 4/10\n",
        "422/422 ━━━━━━━━━━━━━━━━━━━━ 83s 113ms/step - accuracy: 0.9750 - loss: 0.0820 - val_accuracy: 0.9880 - val_loss: 0.0363\n",
        "Epoch 5/10\n",
        "422/422 ━━━━━━━━━━━━━━━━━━━━ 82s 113ms/step - accuracy: 0.9791 - loss: 0.0718 - val_accuracy: 0.9895 - val_loss: 0.0361\n",
        "Epoch 6/10\n",
        "422/422 ━━━━━━━━━━━━━━━━━━━━ 80s 109ms/step - accuracy: 0.9806 - loss: 0.0602 - val_accuracy: 0.9897 - val_loss: 0.0356\n",
        "Epoch 7/10\n",
        "422/422 ━━━━━━━━━━━━━━━━━━━━ 48s 113ms/step - accuracy: 0.9828 - loss: 0.0555 - val_accuracy: 0.9890 - val_loss: 0.0359\n",
        "Epoch 8/10\n",
        "422/422 ━━━━━━━━━━━━━━━━━━━━ 46s 110ms/step - accuracy: 0.9840 - loss: 0.0533 - val_accuracy: 0.9915 - val_loss: 0.0310\n",
        "Epoch 9/10\n",
        "422/422 ━━━━━━━━━━━━━━━━━━━━ 83s 113ms/step - accuracy: 0.9848 - loss: 0.0486 - val_accuracy: 0.9918 - val_loss: 0.0302\n",
        "Epoch 10/10\n",
        "422/422 ━━━━━━━━━━━━━━━━━━━━ 48s 113ms/step - accuracy: 0.9875 - loss: 0.0410 - val_accuracy: 0.9927 - val_loss: 0.0293\n",
        "313/313 ━━━━━━━━━━━━━━━━━━━━ 3s 10ms/step - accuracy: 0.9898 - loss: 0.0278\n",
        "Test Accuracy: 99.17%\n",
        "313/313 ━━━━━━━━━━━━━━━━━━━━ 3s 8ms/step\n",
        "\n",
        "\n",
        "\n",
        "\n"
      ]
    }
  ]
}